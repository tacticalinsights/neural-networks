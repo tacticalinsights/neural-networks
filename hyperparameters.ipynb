{
 "cells": [
  {
   "cell_type": "code",
   "execution_count": 1,
   "id": "327825e6",
   "metadata": {},
   "outputs": [],
   "source": [
    "L = 3 # num hidden layers\n",
    "n = [784, 16, 16, 10] # num units per layer\n",
    "# activations: ReLU, ReLU, ..., ReLU, softmax\n",
    "epochs = 10 # num epochs\n",
    "batch_size = 35000 # batch size\n",
    "optimizer = \"adam\" # optimization algorithm\n",
    "alpha = 0.01 # learning rate\n",
    "beta1 = 0.9 # first moment decay rate\n",
    "beta2 = 0.999 # second moment decay rate\n",
    "lambd = 0.01 # L2 regularization\n",
    "dropout_prob = 0.90 # dropout regularization"
   ]
  }
 ],
 "metadata": {
  "kernelspec": {
   "display_name": "Python 3 (ipykernel)",
   "language": "python",
   "name": "python3"
  },
  "language_info": {
   "codemirror_mode": {
    "name": "ipython",
    "version": 3
   },
   "file_extension": ".py",
   "mimetype": "text/x-python",
   "name": "python",
   "nbconvert_exporter": "python",
   "pygments_lexer": "ipython3",
   "version": "3.10.12"
  }
 },
 "nbformat": 4,
 "nbformat_minor": 5
}
