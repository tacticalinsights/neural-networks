{
 "cells": [
  {
   "cell_type": "code",
   "execution_count": 1,
   "id": "28a0561e",
   "metadata": {},
   "outputs": [],
   "source": [
    "def gradient_descent(W, b, dW, db, alpha):\n",
    "    for i in range(1, L + 1):\n",
    "        W[i] = W[i] - alpha*dW[i]\n",
    "        b[i] = b[i] - alpha*db[i]\n",
    "    return W, b"
   ]
  },
  {
   "cell_type": "code",
   "execution_count": 2,
   "id": "66ab33a6",
   "metadata": {},
   "outputs": [],
   "source": [
    "def adam(W, b, dW, db, vdW, vdb, sdW, sdb, alpha, beta1=0.9, beta2=0.999):\n",
    "    epsilon = 1e-8\n",
    "    for i in range(1, L+1):\n",
    "        # momentum\n",
    "        vdW[i] = beta1 * vdW[i] + (1 - beta1) * dW[i]\n",
    "        vdb[i] = beta1 * vdb[i] + (1 - beta1) * db[i]\n",
    "        # RMSprop\n",
    "        sdW[i] = beta2 * sdW[i] + (1 - beta2) * pow(dW[i], 2)\n",
    "        sdb[i] = beta2 * sdb[i] + (1 - beta2) * pow(db[i], 2)\n",
    "        # weight update\n",
    "        W[i] = W[i] - alpha * (vdW[i] / (np.sqrt(sdW[i]) + epsilon))\n",
    "        b[i] = b[i] - alpha * (vdb[i] / (np.sqrt(sdb[i]) + epsilon))\n",
    "        # IMPLEMENT BIAS CORRECTION\n",
    "    return W, b"
   ]
  }
 ],
 "metadata": {
  "kernelspec": {
   "display_name": "Python 3 (ipykernel)",
   "language": "python",
   "name": "python3"
  },
  "language_info": {
   "codemirror_mode": {
    "name": "ipython",
    "version": 3
   },
   "file_extension": ".py",
   "mimetype": "text/x-python",
   "name": "python",
   "nbconvert_exporter": "python",
   "pygments_lexer": "ipython3",
   "version": "3.10.12"
  }
 },
 "nbformat": 4,
 "nbformat_minor": 5
}
